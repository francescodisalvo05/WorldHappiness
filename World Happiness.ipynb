{
 "cells": [
  {
   "cell_type": "markdown",
   "metadata": {},
   "source": [
    "# World Happiness\n",
    "This analysis is about the World Happiness. This report give us information about the \"perceived happiness\" of 153 countries, by a general rank, justified by single score on various parametres, as Economy, Health..\n",
    "\n",
    "### Dataset\n",
    "These records concern 2015-2020, therefore there are six files, one for each year. Not all these files has the same columns, but the common ones are:\n",
    "- Country\n",
    "- Region\n",
    "- Happiness Rank\n",
    "- Happiness Score\n",
    "- Economy (GDP per capita)\n",
    "- Family\n",
    "- Health\n",
    "- Freedom\n",
    "- Trsust (Government Corruption)\n",
    "- Generosity\n",
    "- Dystopia Residual\n",
    "\n",
    "### Questions\n",
    "1) Which are the ten least happy countries of 2020? <br />\n",
    "2) Which are the ten happiest countries of 2020? <br /> \n",
    "3) What is the trend of happiness about these ten countries between 2015-2020? <br />\n",
    "4) What is the correlation between the parametres in 2020? <br />\n",
    "\n",
    "## Let's start\n",
    "First of all, we need to import all the modules, in particular **Pandas** and **Numpy** for the data manipulation, then **Matplotlib** and **Seaborn** for the data visualization."
   ]
  },
  {
   "cell_type": "code",
   "execution_count": 64,
   "metadata": {},
   "outputs": [],
   "source": [
    "# Importing modules\n",
    "\n",
    "import numpy as np\n",
    "import pandas as pd\n",
    "\n",
    "from matplotlib import rcParams\n",
    "import matplotlib.pyplot as plt\n",
    "import seaborn as sns"
   ]
  },
  {
   "cell_type": "markdown",
   "metadata": {},
   "source": [
    "Then we need to import all the dataset that are on the CSV folder. "
   ]
  },
  {
   "cell_type": "code",
   "execution_count": 47,
   "metadata": {},
   "outputs": [],
   "source": [
    "# Import datasets\n",
    "\n",
    "df_2015 = pd.read_csv('CSV/2015.csv')\n",
    "df_2016 = pd.read_csv('CSV/2016.csv')\n",
    "df_2017 = pd.read_csv('CSV/2017.csv')\n",
    "df_2018 = pd.read_csv('CSV/2018.csv')\n",
    "df_2019 = pd.read_csv('CSV/2019.csv')\n",
    "df_2020 = pd.read_csv('CSV/2020.csv')"
   ]
  },
  {
   "cell_type": "markdown",
   "metadata": {},
   "source": [
    "At this point we have to check if there is any null value. By the canonical synstax df.isnull() we'll have the full output with True and False, but as you can imaga, it isn't so easy to check. "
   ]
  },
  {
   "cell_type": "code",
   "execution_count": 15,
   "metadata": {},
   "outputs": [
    {
     "data": {
      "text/html": [
       "<div>\n",
       "<style scoped>\n",
       "    .dataframe tbody tr th:only-of-type {\n",
       "        vertical-align: middle;\n",
       "    }\n",
       "\n",
       "    .dataframe tbody tr th {\n",
       "        vertical-align: top;\n",
       "    }\n",
       "\n",
       "    .dataframe thead th {\n",
       "        text-align: right;\n",
       "    }\n",
       "</style>\n",
       "<table border=\"1\" class=\"dataframe\">\n",
       "  <thead>\n",
       "    <tr style=\"text-align: right;\">\n",
       "      <th></th>\n",
       "      <th>Country name</th>\n",
       "      <th>Regional indicator</th>\n",
       "      <th>Ladder score</th>\n",
       "      <th>Standard error of ladder score</th>\n",
       "      <th>upperwhisker</th>\n",
       "      <th>lowerwhisker</th>\n",
       "      <th>Logged GDP per capita</th>\n",
       "      <th>Social support</th>\n",
       "      <th>Healthy life expectancy</th>\n",
       "      <th>Freedom to make life choices</th>\n",
       "      <th>Generosity</th>\n",
       "      <th>Perceptions of corruption</th>\n",
       "      <th>Ladder score in Dystopia</th>\n",
       "      <th>Explained by: Log GDP per capita</th>\n",
       "      <th>Explained by: Social support</th>\n",
       "      <th>Explained by: Healthy life expectancy</th>\n",
       "      <th>Explained by: Freedom to make life choices</th>\n",
       "      <th>Explained by: Generosity</th>\n",
       "      <th>Explained by: Perceptions of corruption</th>\n",
       "      <th>Dystopia + residual</th>\n",
       "    </tr>\n",
       "  </thead>\n",
       "  <tbody>\n",
       "    <tr>\n",
       "      <th>0</th>\n",
       "      <td>False</td>\n",
       "      <td>False</td>\n",
       "      <td>False</td>\n",
       "      <td>False</td>\n",
       "      <td>False</td>\n",
       "      <td>False</td>\n",
       "      <td>False</td>\n",
       "      <td>False</td>\n",
       "      <td>False</td>\n",
       "      <td>False</td>\n",
       "      <td>False</td>\n",
       "      <td>False</td>\n",
       "      <td>False</td>\n",
       "      <td>False</td>\n",
       "      <td>False</td>\n",
       "      <td>False</td>\n",
       "      <td>False</td>\n",
       "      <td>False</td>\n",
       "      <td>False</td>\n",
       "      <td>False</td>\n",
       "    </tr>\n",
       "    <tr>\n",
       "      <th>1</th>\n",
       "      <td>False</td>\n",
       "      <td>False</td>\n",
       "      <td>False</td>\n",
       "      <td>False</td>\n",
       "      <td>False</td>\n",
       "      <td>False</td>\n",
       "      <td>False</td>\n",
       "      <td>False</td>\n",
       "      <td>False</td>\n",
       "      <td>False</td>\n",
       "      <td>False</td>\n",
       "      <td>False</td>\n",
       "      <td>False</td>\n",
       "      <td>False</td>\n",
       "      <td>False</td>\n",
       "      <td>False</td>\n",
       "      <td>False</td>\n",
       "      <td>False</td>\n",
       "      <td>False</td>\n",
       "      <td>False</td>\n",
       "    </tr>\n",
       "    <tr>\n",
       "      <th>2</th>\n",
       "      <td>False</td>\n",
       "      <td>False</td>\n",
       "      <td>False</td>\n",
       "      <td>False</td>\n",
       "      <td>False</td>\n",
       "      <td>False</td>\n",
       "      <td>False</td>\n",
       "      <td>False</td>\n",
       "      <td>False</td>\n",
       "      <td>False</td>\n",
       "      <td>False</td>\n",
       "      <td>False</td>\n",
       "      <td>False</td>\n",
       "      <td>False</td>\n",
       "      <td>False</td>\n",
       "      <td>False</td>\n",
       "      <td>False</td>\n",
       "      <td>False</td>\n",
       "      <td>False</td>\n",
       "      <td>False</td>\n",
       "    </tr>\n",
       "    <tr>\n",
       "      <th>3</th>\n",
       "      <td>False</td>\n",
       "      <td>False</td>\n",
       "      <td>False</td>\n",
       "      <td>False</td>\n",
       "      <td>False</td>\n",
       "      <td>False</td>\n",
       "      <td>False</td>\n",
       "      <td>False</td>\n",
       "      <td>False</td>\n",
       "      <td>False</td>\n",
       "      <td>False</td>\n",
       "      <td>False</td>\n",
       "      <td>False</td>\n",
       "      <td>False</td>\n",
       "      <td>False</td>\n",
       "      <td>False</td>\n",
       "      <td>False</td>\n",
       "      <td>False</td>\n",
       "      <td>False</td>\n",
       "      <td>False</td>\n",
       "    </tr>\n",
       "    <tr>\n",
       "      <th>4</th>\n",
       "      <td>False</td>\n",
       "      <td>False</td>\n",
       "      <td>False</td>\n",
       "      <td>False</td>\n",
       "      <td>False</td>\n",
       "      <td>False</td>\n",
       "      <td>False</td>\n",
       "      <td>False</td>\n",
       "      <td>False</td>\n",
       "      <td>False</td>\n",
       "      <td>False</td>\n",
       "      <td>False</td>\n",
       "      <td>False</td>\n",
       "      <td>False</td>\n",
       "      <td>False</td>\n",
       "      <td>False</td>\n",
       "      <td>False</td>\n",
       "      <td>False</td>\n",
       "      <td>False</td>\n",
       "      <td>False</td>\n",
       "    </tr>\n",
       "    <tr>\n",
       "      <th>...</th>\n",
       "      <td>...</td>\n",
       "      <td>...</td>\n",
       "      <td>...</td>\n",
       "      <td>...</td>\n",
       "      <td>...</td>\n",
       "      <td>...</td>\n",
       "      <td>...</td>\n",
       "      <td>...</td>\n",
       "      <td>...</td>\n",
       "      <td>...</td>\n",
       "      <td>...</td>\n",
       "      <td>...</td>\n",
       "      <td>...</td>\n",
       "      <td>...</td>\n",
       "      <td>...</td>\n",
       "      <td>...</td>\n",
       "      <td>...</td>\n",
       "      <td>...</td>\n",
       "      <td>...</td>\n",
       "      <td>...</td>\n",
       "    </tr>\n",
       "    <tr>\n",
       "      <th>148</th>\n",
       "      <td>False</td>\n",
       "      <td>False</td>\n",
       "      <td>False</td>\n",
       "      <td>False</td>\n",
       "      <td>False</td>\n",
       "      <td>False</td>\n",
       "      <td>False</td>\n",
       "      <td>False</td>\n",
       "      <td>False</td>\n",
       "      <td>False</td>\n",
       "      <td>False</td>\n",
       "      <td>False</td>\n",
       "      <td>False</td>\n",
       "      <td>False</td>\n",
       "      <td>False</td>\n",
       "      <td>False</td>\n",
       "      <td>False</td>\n",
       "      <td>False</td>\n",
       "      <td>False</td>\n",
       "      <td>False</td>\n",
       "    </tr>\n",
       "    <tr>\n",
       "      <th>149</th>\n",
       "      <td>False</td>\n",
       "      <td>False</td>\n",
       "      <td>False</td>\n",
       "      <td>False</td>\n",
       "      <td>False</td>\n",
       "      <td>False</td>\n",
       "      <td>False</td>\n",
       "      <td>False</td>\n",
       "      <td>False</td>\n",
       "      <td>False</td>\n",
       "      <td>False</td>\n",
       "      <td>False</td>\n",
       "      <td>False</td>\n",
       "      <td>False</td>\n",
       "      <td>False</td>\n",
       "      <td>False</td>\n",
       "      <td>False</td>\n",
       "      <td>False</td>\n",
       "      <td>False</td>\n",
       "      <td>False</td>\n",
       "    </tr>\n",
       "    <tr>\n",
       "      <th>150</th>\n",
       "      <td>False</td>\n",
       "      <td>False</td>\n",
       "      <td>False</td>\n",
       "      <td>False</td>\n",
       "      <td>False</td>\n",
       "      <td>False</td>\n",
       "      <td>False</td>\n",
       "      <td>False</td>\n",
       "      <td>False</td>\n",
       "      <td>False</td>\n",
       "      <td>False</td>\n",
       "      <td>False</td>\n",
       "      <td>False</td>\n",
       "      <td>False</td>\n",
       "      <td>False</td>\n",
       "      <td>False</td>\n",
       "      <td>False</td>\n",
       "      <td>False</td>\n",
       "      <td>False</td>\n",
       "      <td>False</td>\n",
       "    </tr>\n",
       "    <tr>\n",
       "      <th>151</th>\n",
       "      <td>False</td>\n",
       "      <td>False</td>\n",
       "      <td>False</td>\n",
       "      <td>False</td>\n",
       "      <td>False</td>\n",
       "      <td>False</td>\n",
       "      <td>False</td>\n",
       "      <td>False</td>\n",
       "      <td>False</td>\n",
       "      <td>False</td>\n",
       "      <td>False</td>\n",
       "      <td>False</td>\n",
       "      <td>False</td>\n",
       "      <td>False</td>\n",
       "      <td>False</td>\n",
       "      <td>False</td>\n",
       "      <td>False</td>\n",
       "      <td>False</td>\n",
       "      <td>False</td>\n",
       "      <td>False</td>\n",
       "    </tr>\n",
       "    <tr>\n",
       "      <th>152</th>\n",
       "      <td>False</td>\n",
       "      <td>False</td>\n",
       "      <td>False</td>\n",
       "      <td>False</td>\n",
       "      <td>False</td>\n",
       "      <td>False</td>\n",
       "      <td>False</td>\n",
       "      <td>False</td>\n",
       "      <td>False</td>\n",
       "      <td>False</td>\n",
       "      <td>False</td>\n",
       "      <td>False</td>\n",
       "      <td>False</td>\n",
       "      <td>False</td>\n",
       "      <td>False</td>\n",
       "      <td>False</td>\n",
       "      <td>False</td>\n",
       "      <td>False</td>\n",
       "      <td>False</td>\n",
       "      <td>False</td>\n",
       "    </tr>\n",
       "  </tbody>\n",
       "</table>\n",
       "<p>153 rows × 20 columns</p>\n",
       "</div>"
      ],
      "text/plain": [
       "     Country name  Regional indicator  Ladder score  \\\n",
       "0           False               False         False   \n",
       "1           False               False         False   \n",
       "2           False               False         False   \n",
       "3           False               False         False   \n",
       "4           False               False         False   \n",
       "..            ...                 ...           ...   \n",
       "148         False               False         False   \n",
       "149         False               False         False   \n",
       "150         False               False         False   \n",
       "151         False               False         False   \n",
       "152         False               False         False   \n",
       "\n",
       "     Standard error of ladder score  upperwhisker  lowerwhisker  \\\n",
       "0                             False         False         False   \n",
       "1                             False         False         False   \n",
       "2                             False         False         False   \n",
       "3                             False         False         False   \n",
       "4                             False         False         False   \n",
       "..                              ...           ...           ...   \n",
       "148                           False         False         False   \n",
       "149                           False         False         False   \n",
       "150                           False         False         False   \n",
       "151                           False         False         False   \n",
       "152                           False         False         False   \n",
       "\n",
       "     Logged GDP per capita  Social support  Healthy life expectancy  \\\n",
       "0                    False           False                    False   \n",
       "1                    False           False                    False   \n",
       "2                    False           False                    False   \n",
       "3                    False           False                    False   \n",
       "4                    False           False                    False   \n",
       "..                     ...             ...                      ...   \n",
       "148                  False           False                    False   \n",
       "149                  False           False                    False   \n",
       "150                  False           False                    False   \n",
       "151                  False           False                    False   \n",
       "152                  False           False                    False   \n",
       "\n",
       "     Freedom to make life choices  Generosity  Perceptions of corruption  \\\n",
       "0                           False       False                      False   \n",
       "1                           False       False                      False   \n",
       "2                           False       False                      False   \n",
       "3                           False       False                      False   \n",
       "4                           False       False                      False   \n",
       "..                            ...         ...                        ...   \n",
       "148                         False       False                      False   \n",
       "149                         False       False                      False   \n",
       "150                         False       False                      False   \n",
       "151                         False       False                      False   \n",
       "152                         False       False                      False   \n",
       "\n",
       "     Ladder score in Dystopia  Explained by: Log GDP per capita  \\\n",
       "0                       False                             False   \n",
       "1                       False                             False   \n",
       "2                       False                             False   \n",
       "3                       False                             False   \n",
       "4                       False                             False   \n",
       "..                        ...                               ...   \n",
       "148                     False                             False   \n",
       "149                     False                             False   \n",
       "150                     False                             False   \n",
       "151                     False                             False   \n",
       "152                     False                             False   \n",
       "\n",
       "     Explained by: Social support  Explained by: Healthy life expectancy  \\\n",
       "0                           False                                  False   \n",
       "1                           False                                  False   \n",
       "2                           False                                  False   \n",
       "3                           False                                  False   \n",
       "4                           False                                  False   \n",
       "..                            ...                                    ...   \n",
       "148                         False                                  False   \n",
       "149                         False                                  False   \n",
       "150                         False                                  False   \n",
       "151                         False                                  False   \n",
       "152                         False                                  False   \n",
       "\n",
       "     Explained by: Freedom to make life choices  Explained by: Generosity  \\\n",
       "0                                         False                     False   \n",
       "1                                         False                     False   \n",
       "2                                         False                     False   \n",
       "3                                         False                     False   \n",
       "4                                         False                     False   \n",
       "..                                          ...                       ...   \n",
       "148                                       False                     False   \n",
       "149                                       False                     False   \n",
       "150                                       False                     False   \n",
       "151                                       False                     False   \n",
       "152                                       False                     False   \n",
       "\n",
       "     Explained by: Perceptions of corruption  Dystopia + residual  \n",
       "0                                      False                False  \n",
       "1                                      False                False  \n",
       "2                                      False                False  \n",
       "3                                      False                False  \n",
       "4                                      False                False  \n",
       "..                                       ...                  ...  \n",
       "148                                    False                False  \n",
       "149                                    False                False  \n",
       "150                                    False                False  \n",
       "151                                    False                False  \n",
       "152                                    False                False  \n",
       "\n",
       "[153 rows x 20 columns]"
      ]
     },
     "execution_count": 15,
     "metadata": {},
     "output_type": "execute_result"
    }
   ],
   "source": [
    "df_2020.isnull()"
   ]
  },
  {
   "cell_type": "markdown",
   "metadata": {},
   "source": [
    "An easier way can be the following one: "
   ]
  },
  {
   "cell_type": "code",
   "execution_count": 16,
   "metadata": {},
   "outputs": [
    {
     "data": {
      "text/plain": [
       "Country name                                  0\n",
       "Regional indicator                            0\n",
       "Ladder score                                  0\n",
       "Standard error of ladder score                0\n",
       "upperwhisker                                  0\n",
       "lowerwhisker                                  0\n",
       "Logged GDP per capita                         0\n",
       "Social support                                0\n",
       "Healthy life expectancy                       0\n",
       "Freedom to make life choices                  0\n",
       "Generosity                                    0\n",
       "Perceptions of corruption                     0\n",
       "Ladder score in Dystopia                      0\n",
       "Explained by: Log GDP per capita              0\n",
       "Explained by: Social support                  0\n",
       "Explained by: Healthy life expectancy         0\n",
       "Explained by: Freedom to make life choices    0\n",
       "Explained by: Generosity                      0\n",
       "Explained by: Perceptions of corruption       0\n",
       "Dystopia + residual                           0\n",
       "dtype: int64"
      ]
     },
     "execution_count": 16,
     "metadata": {},
     "output_type": "execute_result"
    }
   ],
   "source": [
    "df_2020.isnull().sum()"
   ]
  },
  {
   "cell_type": "markdown",
   "metadata": {},
   "source": [
    "Now we're ready for answering to all the questions."
   ]
  },
  {
   "cell_type": "markdown",
   "metadata": {},
   "source": [
    "### 1) Which are the ten least happy countries of 2020?\n",
    "We can get these countries by sorting the dataset by \"Ladder score\", and get the first 10 records. Now, by seaborn, we can plot the result in an easy barplot, defining the x axe as \"Ladder Score\", the y axe as \"Country name\" and givid the filtered dataset with only these ten countries. "
   ]
  },
  {
   "cell_type": "code",
   "execution_count": 60,
   "metadata": {},
   "outputs": [
    {
     "data": {
      "text/plain": [
       "Text(0.5, 1.0, '10 unhappiest countries')"
      ]
     },
     "execution_count": 60,
     "metadata": {},
     "output_type": "execute_result"
    },
    {
     "data": {
      "image/png": "[encoded data removed]",
      "text/plain": [
       "<Figure size 432x288 with 1 Axes>"
      ]
     },
     "metadata": {
      "needs_background": "light"
     },
     "output_type": "display_data"
    }
   ],
   "source": [
    "less10 = df_2020.sort_values(by='Ladder score').head(10)\n",
    "sns.barplot(x=\"Ladder score\", y=\"Country name\", data=less10, palette=\"Blues\").set_title(\"10 unhappiest countries\")"
   ]
  },
  {
   "cell_type": "markdown",
   "metadata": {},
   "source": [
    "### 2) Which are the ten happiest countries of 2020?\n",
    "This answer is specular to the previous one. In fact, we can get the firsts ten countries just by the attribute ascending=False"
   ]
  },
  {
   "cell_type": "code",
   "execution_count": 39,
   "metadata": {},
   "outputs": [
    {
     "data": {
      "text/plain": [
       "Text(0.5, 1.0, '10 happiest countries')"
      ]
     },
     "execution_count": 39,
     "metadata": {},
     "output_type": "execute_result"
    },
    {
     "data": {
      "image/png": "[encoded data removed]",
      "text/plain": [
       "<Figure size 432x288 with 1 Axes>"
      ]
     },
     "metadata": {
      "needs_background": "light"
     },
     "output_type": "display_data"
    }
   ],
   "source": [
    "top10 = df_2020.sort_values(by='Ladder score', ascending=False).head(10)\n",
    "sns.barplot(x=\"Ladder score\", y=\"Country name\", data=top10, palette=\"Blues\").set_title(\"10 happiest countries\")"
   ]
  },
  {
   "cell_type": "markdown",
   "metadata": {},
   "source": [
    "### 3) What is the trend of happiness about these ten countries between 2015-2020? \n",
    "Now we have to create another dataset with the score about the top 10 ten happiest countries from 2015 to 2020.\n",
    "A possible solution could be a dataset as the following one:  \n",
    "    \n",
    "     Rank[]\n",
    "2015 <br />\n",
    "2016 <br />\n",
    "2017 <br />\n",
    "2018 <br />\n",
    "2019 <br />\n",
    "2020 <br />"
   ]
  },
  {
   "cell_type": "code",
   "execution_count": null,
   "metadata": {},
   "outputs": [],
   "source": [
    "??"
   ]
  },
  {
   "cell_type": "markdown",
   "metadata": {},
   "source": [
    "## 4) What is the correlation between the parametres? \n",
    "First of all we need to drop some unuseful columns, ad \"Standard error of ladder score\" et simila. After that, we can watch the correlation by using a simple heatmap. For using the heatmap we need the correlation matrix, and we can easy calculate that as \"df.corr()\". annot=True allows to show the exactly value of each correlation, and cmap allows to define a particular colors palette. "
   ]
  },
  {
   "cell_type": "code",
   "execution_count": 85,
   "metadata": {},
   "outputs": [
    {
     "data": {
      "text/plain": [
       "<AxesSubplot:>"
      ]
     },
     "execution_count": 85,
     "metadata": {},
     "output_type": "execute_result"
    },
    {
     "data": {
      "image/png": "[encoded data removed]",
      "text/plain": [
       "<Figure size 1008x720 with 2 Axes>"
      ]
     },
     "metadata": {
      "needs_background": "light"
     },
     "output_type": "display_data"
    }
   ],
   "source": [
    "df_2020_cleaned = df_2020.drop(['Standard error of ladder score',\n",
    "                                'upperwhisker',\n",
    "                                'lowerwhisker',\n",
    "                                'Explained by: Log GDP per capita',\n",
    "                                'Explained by: Freedom to make life choices',\n",
    "                                'Explained by: Social support',\n",
    "                                'Explained by: Healthy life expectancy',\n",
    "                                'Explained by: Generosity',\n",
    "                                'Explained by: Perceptions of corruption',                           \n",
    "                          ], axis=1)\n",
    "\n",
    "plt.figure(figsize=(14, 10))\n",
    "sns.heatmap(df_2020_cleaned.corr(), annot=True, cmap=\"Blues\")"
   ]
  },
  {
   "cell_type": "code",
   "execution_count": null,
   "metadata": {},
   "outputs": [],
   "source": []
  }
 ],
 "metadata": {
  "kernelspec": {
   "display_name": "Python 3",
   "language": "python",
   "name": "python3"
  },
  "language_info": {
   "codemirror_mode": {
    "name": "ipython",
    "version": 3
   },
   "file_extension": ".py",
   "mimetype": "text/x-python",
   "name": "python",
   "nbconvert_exporter": "python",
   "pygments_lexer": "ipython3",
   "version": "3.7.6"
  }
 },
 "nbformat": 4,
 "nbformat_minor": 4
}
